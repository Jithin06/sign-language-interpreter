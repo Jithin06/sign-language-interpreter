{
 "cells": [
  {
   "cell_type": "code",
   "execution_count": 1,
   "id": "59c615bf",
   "metadata": {},
   "outputs": [],
   "source": [
    "import os\n",
    "import numpy as np\n",
    "import pandas as pd\n",
    "from sklearn.model_selection import train_test_split\n",
    "from sklearn.preprocessing import LabelBinarizer\n",
    "import tensorflow as tf\n",
    "from tensorflow.keras.models import Sequential\n",
    "from tensorflow.keras.layers import LSTM, Dense, Dropout, BatchNormalization\n",
    "from tensorflow.keras.callbacks import ModelCheckpoint, ReduceLROnPlateau, EarlyStopping\n",
    "import json"
   ]
  },
  {
   "cell_type": "code",
   "execution_count": 2,
   "id": "10f34d5c",
   "metadata": {},
   "outputs": [],
   "source": [
    "DATA_DIR = \"data\"\n",
    "TRAIN_CSV = os.path.join(DATA_DIR, \"sign_mnist_train.csv\")\n",
    "TEST_CSV = os.path.join(DATA_DIR, \"sign_mnist_test.csv\")\n",
    "MODEL_DIR = \"model\"\n",
    "os.makedirs(MODEL_DIR, exist_ok=True)\n",
    "MODEL_PATH = os.path.join(MODEL_DIR, \"asl_lstm_model.h5\")\n",
    "LABEL_MAP_PATH = os.path.join(MODEL_DIR, \"label_map.json\")"
   ]
  },
  {
   "cell_type": "code",
   "execution_count": 3,
   "id": "60112c7c",
   "metadata": {},
   "outputs": [],
   "source": [
    "def load_csv_as_xy(csv_path):\n",
    "    \"\"\"\n",
    "    sign_mnist files: first column 'label', rest 784 pixels\n",
    "    \"\"\"\n",
    "    df = pd.read_csv(csv_path)\n",
    "    y = df['label'].values\n",
    "    X = df.drop('label', axis=1).values\n",
    "    return X, y"
   ]
  },
  {
   "cell_type": "code",
   "execution_count": 4,
   "id": "5c5ffa85",
   "metadata": {},
   "outputs": [],
   "source": [
    "def images_to_sequences(X):\n",
    "    \"\"\"\n",
    "    Convert flat 784 vectors into sequences of 28 timesteps x 28 features\n",
    "    Shape: (N, 28, 28)\n",
    "    \"\"\"\n",
    "    return X.reshape(-1, 28, 28).astype(np.float32)"
   ]
  },
  {
   "cell_type": "code",
   "execution_count": 5,
   "id": "974dd465",
   "metadata": {},
   "outputs": [
    {
     "name": "stdout",
     "output_type": "stream",
     "text": [
      "Loading data...\n"
     ]
    }
   ],
   "source": [
    "print(\"Loading data...\")\n",
    "if not (os.path.exists(TRAIN_CSV) and os.path.exists(TEST_CSV)):\n",
    "    raise FileNotFoundError(\"Please put sign_mnist_train.csv and sign_mnist_test.csv into the data/ directory.\")"
   ]
  },
  {
   "cell_type": "code",
   "execution_count": 6,
   "id": "780f7ba1",
   "metadata": {},
   "outputs": [
    {
     "name": "stdout",
     "output_type": "stream",
     "text": [
      "Shapes: (24160, 28, 28) (3295, 28, 28) (7172, 28, 28)\n"
     ]
    }
   ],
   "source": [
    "X_train_raw, y_train_raw = load_csv_as_xy(TRAIN_CSV)\n",
    "X_test_raw,  y_test_raw  = load_csv_as_xy(TEST_CSV)\n",
    "\n",
    "# Convert to sequences\n",
    "X_train_seq = images_to_sequences(X_train_raw)\n",
    "X_test_seq  = images_to_sequences(X_test_raw)\n",
    "\n",
    "# Normalize (pixel values 0-255 -> 0-1)\n",
    "X_train_seq /= 255.0\n",
    "X_test_seq  /= 255.0\n",
    "\n",
    "# Optionally split a validation set out of training\n",
    "X_train, X_val, y_train, y_val = train_test_split(X_train_seq, y_train_raw, test_size=0.12, random_state=42, stratify=y_train_raw)\n",
    "\n",
    "print(\"Shapes:\", X_train.shape, X_val.shape, X_test_seq.shape)"
   ]
  },
  {
   "cell_type": "code",
   "execution_count": 7,
   "id": "3031402d",
   "metadata": {},
   "outputs": [
    {
     "name": "stdout",
     "output_type": "stream",
     "text": [
      "Number of classes: 24\n"
     ]
    }
   ],
   "source": [
    "# ------------- Label binarization -------------\n",
    "# We'll one-hot encode labels for training\n",
    "lb = LabelBinarizer()\n",
    "lb.fit(y_train)  # fit on train labels\n",
    "\n",
    "y_train_ohe = lb.transform(y_train)\n",
    "y_val_ohe   = lb.transform(y_val)\n",
    "y_test_ohe  = lb.transform(y_test_raw)\n",
    "\n",
    "n_classes = y_train_ohe.shape[1]\n",
    "print(\"Number of classes:\", n_classes)"
   ]
  },
  {
   "cell_type": "code",
   "execution_count": 8,
   "id": "478336f5",
   "metadata": {},
   "outputs": [],
   "source": [
    "# Save a label mapping so the Streamlit app can decode predictions\n",
    "# The class indices correspond to the label values in the dataset (e.g., 0..23)\n",
    "label_map = {int(cls): int(cls) for cls in lb.classes_}\n",
    "# We'll create a human-readable mapping as well (common mapping in the Sign Language MNIST dataset\n",
    "# maps indices to letters A-Y excluding J). But to avoid mismatch, we'll produce mapping from dataset class number -> letter guess.\n",
    "# For convenience we create a letter list skipping 'J' which is usually absent.\n",
    "letters = [chr(c) for c in range(ord('A'), ord('Z')+1) if chr(c) != 'J']\n",
    "# Some datasets order numeric labels in increasing order corresponding to letters (A,B,C,... skipping J).\n",
    "sorted_classes = sorted(list(lb.classes_))\n",
    "class_to_letter = {}\n",
    "for i, cls in enumerate(sorted_classes):\n",
    "    # guard if classes exceed letters length\n",
    "    letter = letters[i] if i < len(letters) else str(cls)\n",
    "    class_to_letter[int(cls)] = letter"
   ]
  },
  {
   "cell_type": "code",
   "execution_count": 9,
   "id": "96a8ebfc",
   "metadata": {},
   "outputs": [],
   "source": [
    "# Ensure all classes are plain Python ints\n",
    "sorted_classes = [int(c) for c in sorted(lb.classes_)]\n",
    "\n",
    "# Ensure keys in class_to_letter are str (JSON best practice)\n",
    "class_to_letter = {str(int(k)): v for k, v in class_to_letter.items()}\n",
    "\n",
    "with open(LABEL_MAP_PATH, \"w\") as f:\n",
    "    json.dump({\n",
    "        \"classes\": sorted_classes,\n",
    "        \"class_to_letter\": class_to_letter\n",
    "    }, f, indent=2)"
   ]
  },
  {
   "cell_type": "code",
   "execution_count": null,
   "id": "91bab216",
   "metadata": {},
   "outputs": [],
   "source": [
    "# Build an LSTM Model\n",
    "def build_lstm_model(input_shape=(28,28), num_classes=n_classes):\n",
    "    model = Sequential()\n",
    "    # First LSTM layer\n",
    "    model.add(LSTM(128, input_shape=input_shape, return_sequences=True))\n",
    "    model.add(BatchNormalization())\n",
    "    model.add(Dropout(0.3))\n",
    "    # Second LSTM layer\n",
    "    model.add(LSTM(64, return_sequences=False))\n",
    "    model.add(BatchNormalization())\n",
    "    model.add(Dropout(0.25))\n",
    "    model.add(Dense(64, activation='relu'))\n",
    "    model.add(Dropout(0.2))\n",
    "    model.add(Dense(num_classes, activation='softmax'))\n",
    "    return model"
   ]
  },
  {
   "cell_type": "code",
   "execution_count": 11,
   "id": "cf165a1b",
   "metadata": {},
   "outputs": [
    {
     "name": "stderr",
     "output_type": "stream",
     "text": [
      "2025-09-06 02:54:18.475367: I metal_plugin/src/device/metal_device.cc:1154] Metal device set to: Apple M1\n",
      "2025-09-06 02:54:18.475746: I metal_plugin/src/device/metal_device.cc:296] systemMemory: 8.00 GB\n",
      "2025-09-06 02:54:18.475765: I metal_plugin/src/device/metal_device.cc:313] maxCacheSize: 2.67 GB\n",
      "2025-09-06 02:54:18.476670: I tensorflow/core/common_runtime/pluggable_device/pluggable_device_factory.cc:303] Could not identify NUMA node of platform GPU ID 0, defaulting to 0. Your kernel may not have been built with NUMA support.\n",
      "2025-09-06 02:54:18.477793: I tensorflow/core/common_runtime/pluggable_device/pluggable_device_factory.cc:269] Created TensorFlow device (/job:localhost/replica:0/task:0/device:GPU:0 with 0 MB memory) -> physical PluggableDevice (device: 0, name: METAL, pci bus id: <undefined>)\n",
      "WARNING:absl:At this time, the v2.11+ optimizer `tf.keras.optimizers.Adam` runs slowly on M1/M2 Macs, please use the legacy Keras optimizer instead, located at `tf.keras.optimizers.legacy.Adam`.\n",
      "WARNING:absl:There is a known slowdown when using v2.11+ Keras optimizers on M1/M2 Macs. Falling back to the legacy Keras optimizer, i.e., `tf.keras.optimizers.legacy.Adam`.\n"
     ]
    },
    {
     "name": "stdout",
     "output_type": "stream",
     "text": [
      "Model: \"sequential\"\n",
      "_________________________________________________________________\n",
      " Layer (type)                Output Shape              Param #   \n",
      "=================================================================\n",
      " lstm (LSTM)                 (None, 28, 128)           80384     \n",
      "                                                                 \n",
      " batch_normalization (Batch  (None, 28, 128)           512       \n",
      " Normalization)                                                  \n",
      "                                                                 \n",
      " dropout (Dropout)           (None, 28, 128)           0         \n",
      "                                                                 \n",
      " lstm_1 (LSTM)               (None, 64)                49408     \n",
      "                                                                 \n",
      " batch_normalization_1 (Bat  (None, 64)                256       \n",
      " chNormalization)                                                \n",
      "                                                                 \n",
      " dropout_1 (Dropout)         (None, 64)                0         \n",
      "                                                                 \n",
      " dense (Dense)               (None, 64)                4160      \n",
      "                                                                 \n",
      " dropout_2 (Dropout)         (None, 64)                0         \n",
      "                                                                 \n",
      " dense_1 (Dense)             (None, 24)                1560      \n",
      "                                                                 \n",
      "=================================================================\n",
      "Total params: 136280 (532.34 KB)\n",
      "Trainable params: 135896 (530.84 KB)\n",
      "Non-trainable params: 384 (1.50 KB)\n",
      "_________________________________________________________________\n"
     ]
    }
   ],
   "source": [
    "model = build_lstm_model()\n",
    "model.compile(optimizer=tf.keras.optimizers.Adam(learning_rate=1e-3),\n",
    "              loss='categorical_crossentropy',\n",
    "              metrics=['accuracy'])\n",
    "model.summary()"
   ]
  },
  {
   "cell_type": "code",
   "execution_count": null,
   "id": "c1077d8a",
   "metadata": {},
   "outputs": [],
   "source": [
    "# Callbacks\n",
    "checkpoint = ModelCheckpoint(MODEL_PATH, monitor='val_accuracy', save_best_only=True, verbose=1)\n",
    "reduce_lr = ReduceLROnPlateau(monitor='val_loss', factor=0.5, patience=4, min_lr=1e-6, verbose=1)\n",
    "early = EarlyStopping(monitor='val_loss', patience=10, verbose=1, restore_best_weights=True)"
   ]
  },
  {
   "cell_type": "code",
   "execution_count": null,
   "id": "c6811a26",
   "metadata": {},
   "outputs": [
    {
     "name": "stderr",
     "output_type": "stream",
     "text": [
      "2025-09-06 02:54:20.866743: I tensorflow/core/grappler/optimizers/custom_graph_optimizer_registry.cc:114] Plugin optimizer for device_type GPU is enabled.\n",
      "2025-09-06 02:54:21.329528: I tensorflow/core/grappler/optimizers/custom_graph_optimizer_registry.cc:114] Plugin optimizer for device_type GPU is enabled.\n",
      "2025-09-06 02:54:22.046401: I tensorflow/core/grappler/optimizers/custom_graph_optimizer_registry.cc:114] Plugin optimizer for device_type GPU is enabled.\n",
      "2025-09-06 02:54:22.873643: I tensorflow/core/grappler/optimizers/custom_graph_optimizer_registry.cc:114] Plugin optimizer for device_type GPU is enabled.\n",
      "2025-09-06 02:54:23.189543: I tensorflow/core/grappler/optimizers/custom_graph_optimizer_registry.cc:114] Plugin optimizer for device_type GPU is enabled.\n",
      "2025-09-06 02:54:29.395477: I tensorflow/core/grappler/optimizers/custom_graph_optimizer_registry.cc:114] Plugin optimizer for device_type GPU is enabled.\n",
      "2025-09-06 02:54:29.491294: I tensorflow/core/grappler/optimizers/custom_graph_optimizer_registry.cc:114] Plugin optimizer for device_type GPU is enabled.\n",
      "2025-09-06 02:54:29.571275: I tensorflow/core/grappler/optimizers/custom_graph_optimizer_registry.cc:114] Plugin optimizer for device_type GPU is enabled.\n"
     ]
    },
    {
     "name": "stdout",
     "output_type": "stream",
     "text": [
      "\n",
      "Epoch 1: val_accuracy improved from -inf to 0.35569, saving model to model/asl_lstm_model.h5\n",
      "189/189 - 11s - loss: 2.1942 - accuracy: 0.3361 - val_loss: 2.2210 - val_accuracy: 0.3557 - lr: 0.0010 - 11s/epoch - 57ms/step\n"
     ]
    },
    {
     "name": "stderr",
     "output_type": "stream",
     "text": [
      "/Users/jithinrajan/miniconda3/envs/asl_tf/lib/python3.10/site-packages/keras/src/engine/training.py:3000: UserWarning: You are saving your model as an HDF5 file via `model.save()`. This file format is considered legacy. We recommend using instead the native Keras format, e.g. `model.save('my_model.keras')`.\n",
      "  saving_api.save_model(\n"
     ]
    }
   ],
   "source": [
    "# Training\n",
    "BATCH_SIZE = 128\n",
    "EPOCHS = 1\n",
    "\n",
    "history = model.fit(\n",
    "    X_train, y_train_ohe,\n",
    "    validation_data=(X_val, y_val_ohe),\n",
    "    epochs=EPOCHS,\n",
    "    batch_size=BATCH_SIZE,\n",
    "    callbacks=[checkpoint, reduce_lr, early],\n",
    "    verbose=2\n",
    ")"
   ]
  },
  {
   "cell_type": "code",
   "execution_count": 14,
   "id": "7a53dbb4",
   "metadata": {},
   "outputs": [
    {
     "name": "stdout",
     "output_type": "stream",
     "text": [
      "Evaluating on test set...\n",
      "225/225 - 3s - loss: 2.2613 - accuracy: 0.3617 - 3s/epoch - 12ms/step\n",
      "Test accuracy: 0.3617\n",
      "Training complete. Model saved to model/asl_lstm_model.h5\n"
     ]
    }
   ],
   "source": [
    "# Evaluate on test set\n",
    "print(\"Evaluating on test set...\")\n",
    "model.load_weights(MODEL_PATH)  # best model\n",
    "test_loss, test_acc = model.evaluate(X_test_seq, y_test_ohe, verbose=2)\n",
    "print(f\"Test accuracy: {test_acc:.4f}\")\n",
    "\n",
    "print(\"Training complete. Model saved to\", MODEL_PATH)"
   ]
  },
  {
   "cell_type": "code",
   "execution_count": null,
   "id": "b7e1bd2a",
   "metadata": {},
   "outputs": [],
   "source": []
  },
  {
   "cell_type": "code",
   "execution_count": null,
   "id": "6eda8c98",
   "metadata": {},
   "outputs": [],
   "source": []
  }
 ],
 "metadata": {
  "kernelspec": {
   "display_name": "asl_tf",
   "language": "python",
   "name": "python3"
  },
  "language_info": {
   "codemirror_mode": {
    "name": "ipython",
    "version": 3
   },
   "file_extension": ".py",
   "mimetype": "text/x-python",
   "name": "python",
   "nbconvert_exporter": "python",
   "pygments_lexer": "ipython3",
   "version": "3.10.18"
  }
 },
 "nbformat": 4,
 "nbformat_minor": 5
}
